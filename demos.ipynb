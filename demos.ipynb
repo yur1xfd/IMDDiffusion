{
  "cells": [
    {
      "cell_type": "markdown",
      "source": [
        "# FID, KID and IMD calculation demo"
      ],
      "metadata": {
        "id": "ophY5gUyvAHt"
      }
    },
    {
      "cell_type": "code",
      "source": [
        "!pip install piq"
      ],
      "metadata": {
        "colab": {
          "base_uri": "https://localhost:8080/"
        },
        "id": "psmUAIduPjLr",
        "outputId": "205ea0fe-8dbd-4457-8813-220d2d6d4e31"
      },
      "execution_count": 1,
      "outputs": [
        {
          "output_type": "stream",
          "name": "stdout",
          "text": [
            "Collecting piq\n",
            "  Downloading piq-0.8.0-py3-none-any.whl.metadata (17 kB)\n",
            "Requirement already satisfied: torchvision>=0.10.0 in /usr/local/lib/python3.10/dist-packages (from piq) (0.20.1+cu121)\n",
            "Requirement already satisfied: numpy in /usr/local/lib/python3.10/dist-packages (from torchvision>=0.10.0->piq) (1.26.4)\n",
            "Requirement already satisfied: torch==2.5.1 in /usr/local/lib/python3.10/dist-packages (from torchvision>=0.10.0->piq) (2.5.1+cu121)\n",
            "Requirement already satisfied: pillow!=8.3.*,>=5.3.0 in /usr/local/lib/python3.10/dist-packages (from torchvision>=0.10.0->piq) (11.0.0)\n",
            "Requirement already satisfied: filelock in /usr/local/lib/python3.10/dist-packages (from torch==2.5.1->torchvision>=0.10.0->piq) (3.16.1)\n",
            "Requirement already satisfied: typing-extensions>=4.8.0 in /usr/local/lib/python3.10/dist-packages (from torch==2.5.1->torchvision>=0.10.0->piq) (4.12.2)\n",
            "Requirement already satisfied: networkx in /usr/local/lib/python3.10/dist-packages (from torch==2.5.1->torchvision>=0.10.0->piq) (3.4.2)\n",
            "Requirement already satisfied: jinja2 in /usr/local/lib/python3.10/dist-packages (from torch==2.5.1->torchvision>=0.10.0->piq) (3.1.4)\n",
            "Requirement already satisfied: fsspec in /usr/local/lib/python3.10/dist-packages (from torch==2.5.1->torchvision>=0.10.0->piq) (2024.10.0)\n",
            "Requirement already satisfied: sympy==1.13.1 in /usr/local/lib/python3.10/dist-packages (from torch==2.5.1->torchvision>=0.10.0->piq) (1.13.1)\n",
            "Requirement already satisfied: mpmath<1.4,>=1.1.0 in /usr/local/lib/python3.10/dist-packages (from sympy==1.13.1->torch==2.5.1->torchvision>=0.10.0->piq) (1.3.0)\n",
            "Requirement already satisfied: MarkupSafe>=2.0 in /usr/local/lib/python3.10/dist-packages (from jinja2->torch==2.5.1->torchvision>=0.10.0->piq) (3.0.2)\n",
            "Downloading piq-0.8.0-py3-none-any.whl (106 kB)\n",
            "\u001b[2K   \u001b[90m━━━━━━━━━━━━━━━━━━━━━━━━━━━━━━━━━━━━━━━━\u001b[0m \u001b[32m106.9/106.9 kB\u001b[0m \u001b[31m4.2 MB/s\u001b[0m eta \u001b[36m0:00:00\u001b[0m\n",
            "\u001b[?25hInstalling collected packages: piq\n",
            "Successfully installed piq-0.8.0\n"
          ]
        }
      ]
    },
    {
      "cell_type": "code",
      "execution_count": 2,
      "metadata": {
        "id": "tulNrdrVF7yF"
      },
      "outputs": [],
      "source": [
        "import random\n",
        "import numpy as np\n",
        "import torch\n",
        "from torchvision.datasets import MNIST\n",
        "from torchvision.datasets import CIFAR10\n",
        "import torchvision.transforms as T\n",
        "import torchvision.transforms.functional as F\n",
        "from torch.utils.data import DataLoader, Dataset\n",
        "import piq\n",
        "\n",
        "\n",
        "\n",
        "torch.manual_seed(42)\n",
        "np.random.seed(42)\n",
        "random.seed(42)\n",
        "torch.backends.cudnn.deterministic = True\n",
        "torch.backends.cudnn.benchmark = False"
      ]
    },
    {
      "cell_type": "code",
      "execution_count": 10,
      "metadata": {
        "id": "iBvlZZZsF7yG",
        "colab": {
          "base_uri": "https://localhost:8080/"
        },
        "outputId": "aa675fee-a96a-4da4-8ab1-169d9dab9873"
      },
      "outputs": [
        {
          "output_type": "stream",
          "name": "stdout",
          "text": [
            "Files already downloaded and verified\n"
          ]
        }
      ],
      "source": [
        "from torchvision.datasets import MNIST\n",
        "from torchvision.datasets import CIFAR10\n",
        "\n",
        "transform_mnist = T.Compose([\n",
        "    T.Resize(256),\n",
        "    T.CenterCrop(224),\n",
        "    T.ToTensor()\n",
        "])\n",
        "\n",
        "transform_cifar = T.Compose([\n",
        "    T.Resize(256),\n",
        "    T.CenterCrop(224),\n",
        "    T.ToTensor()\n",
        "])\n",
        "\n",
        "mnist_dataset = MNIST(root='MNIST/raw/train-images-idx3-ubyte',train=False, download=True, transform=transform_mnist)\n",
        "cifar_dataset = CIFAR10(root='cifar-10-batches-py', train=False, download=True, transform=transform_cifar)"
      ]
    },
    {
      "cell_type": "code",
      "source": [
        "from collections import defaultdict\n",
        "\n",
        "def collator_mnist(batch):\n",
        "  batch_dict = defaultdict(list)\n",
        "  for item in batch:\n",
        "      batch_dict['images'].append(torch.concatenate((item[0], item[0], item[0]), axis=0).unsqueeze(0))\n",
        "      batch_dict['targets'].append(torch.tensor(item[1]).unsqueeze(0))\n",
        "\n",
        "  return {'images': torch.concatenate(batch_dict['images'], axis=0), 'targets': torch.concatenate(batch_dict['targets'], axis=0)}\n",
        "\n",
        "def collator_cifar(batch):\n",
        "  batch_dict = defaultdict(list)\n",
        "  for item in batch:\n",
        "      batch_dict['images'].append((item[0]).unsqueeze(0))\n",
        "      batch_dict['targets'].append(torch.tensor(item[1]).unsqueeze(0))\n",
        "\n",
        "  return {'images': torch.concatenate(batch_dict['images'], axis=0), 'targets': torch.concatenate(batch_dict['targets'], axis=0)}\n",
        "\n",
        "mnist_dataloader = DataLoader(mnist_dataset, shuffle=False, batch_size=128, collate_fn=collator_mnist)\n",
        "cifar_dataloader = DataLoader(cifar_dataset, shuffle=False, batch_size=128, collate_fn=collator_cifar)"
      ],
      "metadata": {
        "id": "9zdLjiHVVKPq"
      },
      "execution_count": 11,
      "outputs": []
    },
    {
      "cell_type": "code",
      "source": [
        "@torch.no_grad()\n",
        "def demo(x_features, y_features):\n",
        "\n",
        "    if torch.cuda.is_available():\n",
        "        # Move to GPU to make computaions faster\n",
        "        x_features = x_features.cuda()\n",
        "        y_features = y_features.cuda()\n",
        "\n",
        "    # Use FID class to compute FID score from image features, pre-extracted from some feature extractor network\n",
        "    fid: torch.Tensor = piq.FID()(x_features, y_features)\n",
        "    print(f\"FID: {fid:0.4f}\")\n",
        "\n",
        "    # Use KID class to compute KID score from image features, pre-extracted from some feature extractor network:\n",
        "    kid: torch.Tensor = piq.KID()(x_features, y_features)\n",
        "    print(f\"KID: {kid:0.4f}\")\n",
        "\n",
        "    # Use MSID class to compute MSID score from image features, pre-extracted from some feature extractor network:\n",
        "    msid: torch.Tensor = piq.MSID(niters=100)(x_features, y_features)\n",
        "    print(f\"MSID: {msid:0.4f}\")"
      ],
      "metadata": {
        "id": "kYvxCALfAxGa"
      },
      "execution_count": 12,
      "outputs": []
    },
    {
      "cell_type": "code",
      "source": [
        "# Differrent distances between cifar10 and mnist data distrubutions\n",
        "\n",
        "cifar_features = piq.FID().compute_feats(cifar_dataloader, device='cuda')\n",
        "mnist_features = piq.FID().compute_feats(mnist_dataloader, device='cuda')\n",
        "demo(mnist_features, cifar_features)"
      ],
      "metadata": {
        "colab": {
          "base_uri": "https://localhost:8080/"
        },
        "id": "mtWhcE_AE5x3",
        "outputId": "12d567c9-518f-4d21-bb92-4a6fdb8a3ea1"
      },
      "execution_count": 13,
      "outputs": [
        {
          "output_type": "stream",
          "name": "stdout",
          "text": [
            "WARNING: default feature extractor (InceptionNet V2) is used.\n",
            "WARNING: default feature extractor (InceptionNet V2) is used.\n",
            "FID: 263.5873\n",
            "KID: 0.2426\n",
            "MSID: 83.1270\n"
          ]
        }
      ]
    }
  ],
  "metadata": {
    "kernelspec": {
      "display_name": "Python 3",
      "name": "python3"
    },
    "language_info": {
      "codemirror_mode": {
        "name": "ipython",
        "version": 3
      },
      "file_extension": ".py",
      "mimetype": "text/x-python",
      "name": "python",
      "nbconvert_exporter": "python",
      "pygments_lexer": "ipython3",
      "version": "3.12.4"
    },
    "colab": {
      "provenance": [],
      "gpuType": "T4"
    },
    "accelerator": "GPU"
  },
  "nbformat": 4,
  "nbformat_minor": 0
}